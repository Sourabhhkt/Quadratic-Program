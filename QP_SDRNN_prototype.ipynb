{
 "cells": [
  {
   "cell_type": "code",
   "execution_count": 1,
   "metadata": {},
   "outputs": [
    {
     "data": {
      "text/html": [
       "<style>.container { width:100% !important; }</style>"
      ],
      "text/plain": [
       "<IPython.core.display.HTML object>"
      ]
     },
     "metadata": {},
     "output_type": "display_data"
    }
   ],
   "source": [
    "# import plotly.graph_objects as go\n",
    "# import networkx as nx\n",
    "import sys\n",
    "import importlib\n",
    "import os\n",
    "# import plotly.offline as py\n",
    "\n",
    "import matplotlib.pyplot as plt\n",
    "from plotly.subplots import make_subplots\n",
    "import pickle as pk\n",
    "from datetime import datetime\n",
    "from datetime import timedelta\n",
    "from datetime import time\n",
    "import pandas as pd\n",
    "import numpy as np\n",
    "\n",
    "from IPython.display import display, HTML\n",
    "display(HTML(\"<style>.container { width:100% !important; }</style>\"))\n"
   ]
  },
  {
   "cell_type": "code",
   "execution_count": null,
   "metadata": {},
   "outputs": [],
   "source": []
  },
  {
   "cell_type": "code",
   "execution_count": null,
   "metadata": {},
   "outputs": [],
   "source": []
  },
  {
   "cell_type": "code",
   "execution_count": null,
   "metadata": {},
   "outputs": [],
   "source": []
  },
  {
   "cell_type": "code",
   "execution_count": null,
   "metadata": {},
   "outputs": [],
   "source": []
  },
  {
   "cell_type": "code",
   "execution_count": 4,
   "metadata": {},
   "outputs": [
    {
     "name": "stdout",
     "output_type": "stream",
     "text": [
      "Academic license - for non-commercial use only - expires 2023-08-21\n",
      "Using license file /Users/ravitpichayavet/gurobi.lic\n",
      "Gurobi Optimizer version 9.1.1 build v9.1.1rc0 (mac64)\n",
      "Thread count: 8 physical cores, 8 logical processors, using up to 8 threads\n",
      "Optimize a model with 2 rows, 3 columns and 5 nonzeros\n",
      "Model fingerprint: 0xc501370b\n",
      "Model has 5 quadratic objective terms\n",
      "Coefficient statistics:\n",
      "  Matrix range     [1e+00, 3e+00]\n",
      "  Objective range  [2e+00, 2e+00]\n",
      "  QObjective range [2e+00, 2e+00]\n",
      "  Bounds range     [1e+00, 1e+00]\n",
      "  RHS range        [1e+00, 4e+00]\n",
      "Presolve time: 0.02s\n",
      "Presolved: 2 rows, 3 columns, 5 nonzeros\n",
      "Presolved model has 5 quadratic objective terms\n",
      "Ordering time: 0.00s\n",
      "\n",
      "Barrier statistics:\n",
      " Free vars  : 2\n",
      " AA' NZ     : 6.000e+00\n",
      " Factor NZ  : 1.000e+01\n",
      " Factor Ops : 3.000e+01 (less than 1 second per iteration)\n",
      " Threads    : 1\n",
      "\n",
      "                  Objective                Residual\n",
      "Iter       Primal          Dual         Primal    Dual     Compl     Time\n",
      "   0   1.69015022e+05 -1.71012100e+05  1.50e+03 3.33e+02  1.00e+06     0s\n",
      "   1   3.60255402e+04 -3.91306233e+04  2.28e+02 3.82e+01  1.20e+05     0s\n",
      "   2   4.14685168e+00 -4.40925173e+03  1.80e+00 4.00e-01  1.83e+03     0s\n",
      "   3   2.81937163e+00 -1.92736174e+03  1.80e-06 4.00e-07  2.41e+02     0s\n",
      "   4   2.81628339e+00 -1.81287557e-01  8.60e-10 1.90e-10  3.75e-01     0s\n",
      "   5   2.26977145e+00  2.06670895e+00  6.89e-12 1.53e-12  2.54e-02     0s\n",
      "   6   2.11498124e+00  2.11029644e+00  2.22e-16 5.55e-16  5.86e-04     0s\n",
      "   7   2.11111498e+00  2.11111030e+00  2.22e-16 2.22e-16  5.85e-07     0s\n",
      "   8   2.11111111e+00  2.11111111e+00  2.22e-16 0.00e+00  5.86e-10     0s\n",
      "\n",
      "Barrier solved model in 8 iterations and 0.06 seconds\n",
      "Optimal objective 2.11111111e+00\n",
      "\n",
      "x 3.255e-09\n",
      "Obj: 2.11111\n",
      "y 1\n",
      "Obj: 2.11111\n",
      "z 0.666667\n",
      "Obj: 2.11111\n",
      "Gurobi Optimizer version 9.1.1 build v9.1.1rc0 (mac64)\n",
      "Thread count: 8 physical cores, 8 logical processors, using up to 8 threads\n",
      "Optimize a model with 2 rows, 3 columns and 5 nonzeros\n",
      "Model fingerprint: 0x026954d2\n",
      "Model has 5 quadratic objective terms\n",
      "Variable types: 0 continuous, 3 integer (0 binary)\n",
      "Coefficient statistics:\n",
      "  Matrix range     [1e+00, 3e+00]\n",
      "  Objective range  [2e+00, 2e+00]\n",
      "  QObjective range [2e+00, 2e+00]\n",
      "  Bounds range     [1e+00, 1e+00]\n",
      "  RHS range        [1e+00, 4e+00]\n",
      "Found heuristic solution: objective 7.0000000\n",
      "Presolve removed 1 rows and 1 columns\n",
      "Presolve time: 0.01s\n",
      "Presolved: 2 rows, 3 columns, 5 nonzeros\n",
      "Variable types: 0 continuous, 3 integer (3 binary)\n",
      "\n",
      "Root relaxation: objective 3.000000e+00, 1 iterations, 0.01 seconds\n",
      "\n",
      "    Nodes    |    Current Node    |     Objective Bounds      |     Work\n",
      " Expl Unexpl |  Obj  Depth IntInf | Incumbent    BestBd   Gap | It/Node Time\n",
      "\n",
      "*    0     0               0       3.0000000    3.00000  0.00%     -    0s\n",
      "\n",
      "Explored 0 nodes (1 simplex iterations) in 0.07 seconds\n",
      "Thread count was 8 (of 8 available processors)\n",
      "\n",
      "Solution count 2: 3 7 \n",
      "\n",
      "Optimal solution found (tolerance 1.00e-04)\n",
      "Best objective 3.000000000000e+00, best bound 3.000000000000e+00, gap 0.0000%\n",
      "x 0\n",
      "y 1\n",
      "z 1\n",
      "Obj: 3\n"
     ]
    }
   ],
   "source": [
    "#!/ usr/bin/env python3 .7\n",
    "# Copyright 2020 , Gurobi Optimization , LLC\n",
    "# This example formulates and solves the following simple QP model :\n",
    "# minimize\n",
    "# x^2 + x*y + y^2 + y*z + z^2 + 2 x\n",
    "# subject to\n",
    "# x + 2 y + 3 z >= 4\n",
    "# x + y >= 1\n",
    "# x, y, z non - negative\n",
    "#\n",
    "# It solves it once as a continuous model , and once as an integer model .\n",
    "import gurobipy as gp\n",
    "from gurobipy import GRB\n",
    "# Create a new model\n",
    "m = gp.Model(\"qp\")\n",
    "# Create variables\n",
    "x = m.addVar( ub =1.0 , name =\"x\")\n",
    "y = m.addVar( ub =1.0 , name =\"y\")\n",
    "z = m.addVar( ub =1.0 , name =\"z\")\n",
    "# Set objective : x^2 + x*y + y^2 + y*z + z^2 + 2 x\n",
    "obj = x * x + x * y + y * y + y * z + z * z + 2* x\n",
    "m.setObjective( obj )\n",
    "# Add constraint : x + 2 y + 3 z <= 4\n",
    "m.addConstr ( x + 2 * y + 3 * z >= 4 , \"c0\")\n",
    "# Add constraint : x + y >= 1\n",
    "m.addConstr ( x + y >= 1 , \"c1\")\n",
    "m.optimize ()\n",
    "for v in m.getVars():\n",
    "    print('%s %g'%(v.varName, v.x ))\n",
    "    print('Obj: %g' % obj.getValue())\n",
    "x.vType = GRB.INTEGER\n",
    "y.vType = GRB.INTEGER\n",
    "z.vType = GRB.INTEGER\n",
    "m.optimize()\n",
    "for v in m.getVars ():\n",
    "    print('%s %g'%(v.varName , v.x ))\n",
    "\n",
    "print('Obj: %g'%obj.getValue())"
   ]
  },
  {
   "cell_type": "code",
   "execution_count": 210,
   "metadata": {},
   "outputs": [
    {
     "name": "stdout",
     "output_type": "stream",
     "text": [
      "Gurobi Optimizer version 9.1.1 build v9.1.1rc0 (mac64)\n",
      "Thread count: 8 physical cores, 8 logical processors, using up to 8 threads\n",
      "Optimize a model with 5 rows, 4 columns and 14 nonzeros\n",
      "Model fingerprint: 0x911cdcf5\n",
      "Model has 7 quadratic objective terms\n",
      "Coefficient statistics:\n",
      "  Matrix range     [1e+00, 4e+00]\n",
      "  Objective range  [5e+00, 1e+01]\n",
      "  QObjective range [2e+00, 1e+01]\n",
      "  Bounds range     [0e+00, 0e+00]\n",
      "  RHS range        [1e+00, 4e+00]\n",
      "Presolve removed 1 rows and 0 columns\n",
      "Presolve time: 0.02s\n",
      "Presolved: 4 rows, 5 columns, 13 nonzeros\n",
      "Presolved model has 7 quadratic objective terms\n",
      "Ordering time: 0.00s\n",
      "\n",
      "Barrier statistics:\n",
      " Free vars  : 7\n",
      " AA' NZ     : 2.000e+01\n",
      " Factor NZ  : 2.800e+01\n",
      " Factor Ops : 1.400e+02 (less than 1 second per iteration)\n",
      " Threads    : 1\n",
      "\n",
      "                  Objective                Residual\n",
      "Iter       Primal          Dual         Primal    Dual     Compl     Time\n",
      "   0  -3.95944805e-09 -1.50000000e+03  1.00e+03 1.10e+01  1.00e+06     0s\n",
      "   1   1.74003686e+04 -1.80009399e+04  1.89e+01 2.08e-01  3.04e+04     0s\n",
      "   2   4.32221113e+03 -5.58517566e+03  1.88e-05 3.84e-05  3.30e+03     0s\n",
      "   3   7.04754541e+02 -6.68997424e+02  1.67e-08 2.11e-06  4.58e+02     0s\n",
      "   4   1.19288640e+02 -2.02151585e+02  1.58e-14 2.19e-12  1.07e+02     0s\n",
      "   5   2.47254283e+01 -2.52163582e+00  4.44e-16 5.60e-14  9.08e+00     0s\n",
      "   6   1.04751145e+01  7.63811202e+00  4.44e-16 1.29e-14  9.46e-01     0s\n",
      "   7   8.04301613e+00  7.97523105e+00  4.44e-16 3.22e-15  2.26e-02     0s\n",
      "   8   8.00004296e+00  7.99997510e+00  1.65e-11 2.12e-09  2.26e-05     0s\n",
      "   9   8.00000004e+00  7.99999998e+00  4.46e-15 2.14e-12  2.26e-08     0s\n",
      "  10   8.00000000e+00  8.00000000e+00  2.22e-16 4.66e-15  2.27e-11     0s\n",
      "\n",
      "Barrier solved model in 10 iterations and 0.03 seconds\n",
      "Optimal objective 8.00000000e+00\n",
      "\n",
      "x1 0.5\n",
      "x2 -0.5\n",
      "x3 1.5\n",
      "x4 -2.27213e-12\n",
      "Obj: 8\n"
     ]
    }
   ],
   "source": [
    "# Create a new model\n",
    "m = gp.Model(\"qp\")\n",
    "# Create variables\n",
    "x1 = m.addVar(name =\"x1\", lb = -GRB.INFINITY)\n",
    "x2 = m.addVar(name =\"x2\",lb = -GRB.INFINITY)\n",
    "x3 = m.addVar(name =\"x3\",lb = -GRB.INFINITY)\n",
    "x4 = m.addVar(name =\"x4\",lb = -GRB.INFINITY)\n",
    "# Set objective : x^2 + x*y + y^2 + y*z + z^2 + 2 x\n",
    "obj = 3*(x1 * x1) + 3*(x2 * x2) + 4*(x3 * x3) + 5*(x4 * x4) + 3*(x1 * x2) + 5*(x1 * x3) + (x2 * x4) - (11*x1)- (5*x4)\n",
    "m.setObjective(obj ,GRB.MINIMIZE)\n",
    "# Add constraint: \n",
    "m.addConstr ( (3*x1) - (3*x2) - (2*x3) + x4 == 0 , \"c0\")\n",
    "m.addConstr ( (4*x1) + x2 - x3 - (2*x4) == 0 , \"c1\")\n",
    "m.addConstr ( -x1 + x2 <= -1 , \"c2\")\n",
    "m.addConstr ( (3*x1) + x3 <= 4 , \"c3\")\n",
    "m.addConstr ( (3*x1) + x3 >= -2 , \"c4\")\n",
    "\n",
    "m.update()\n",
    "# x1.vType = GRB.INTEGER\n",
    "# x2.vType = GRB.INTEGER\n",
    "# x3.vType = GRB.INTEGER\n",
    "# x4.vType = GRB.INTEGER\n",
    "m.optimize()\n",
    "\n",
    "for v in m.getVars():\n",
    "    print('%s %g'%(v.varName, v.x ))\n",
    "print('Obj: %g' % obj.getValue())"
   ]
  },
  {
   "cell_type": "code",
   "execution_count": 73,
   "metadata": {},
   "outputs": [
    {
     "data": {
      "text/plain": [
       "(array([[3., 3., 5., 0.],\n",
       "        [0., 3., 0., 1.],\n",
       "        [0., 0., 4., 0.],\n",
       "        [0., 0., 0., 5.]]),\n",
       " array([[ 3., -3., -2.,  1.],\n",
       "        [ 4.,  1., -1., -2.],\n",
       "        [-1.,  1.,  0.,  0.],\n",
       "        [ 3.,  0.,  1.,  0.],\n",
       "        [ 3.,  0.,  1.,  0.]]))"
      ]
     },
     "execution_count": 73,
     "metadata": {},
     "output_type": "execute_result"
    }
   ],
   "source": [
    "m.getQ().toarray(),m.getA().toarray(),"
   ]
  },
  {
   "cell_type": "code",
   "execution_count": 216,
   "metadata": {},
   "outputs": [],
   "source": [
    "W = np.array([\n",
    "    [6, 3, 5, 0],\n",
    "    [3, 6, 0, 1],\n",
    "    [5, 0, 8, 0],\n",
    "    [0, 1, 0, 10] ])\n",
    "A = np.array([\n",
    "    [3, -3, -2, 1],\n",
    "    [4, 1, -1, -2] ])\n",
    "E = np.array([\n",
    "    [-1, 1, 0, 0],\n",
    "    [3, 0, 1, 0] ])\n",
    "C = np.array([-11,0,0,-5])\n",
    "b = np.array([0,0])\n",
    "l = np.array([-np.inf,-2])\n",
    "h = np.array([-1,4])\n",
    "\n",
    "W_inv = np.linalg.inv(W)\n",
    "\n"
   ]
  },
  {
   "cell_type": "code",
   "execution_count": 217,
   "metadata": {},
   "outputs": [
    {
     "name": "stdout",
     "output_type": "stream",
     "text": [
      "M: [[ 0.01512507  0.00407213  0.02617801  0.01919721]\n",
      " [ 0.00407213  0.03955788 -0.03141361  0.04363002]\n",
      " [ 0.02617801 -0.03141361  0.08376963 -0.0052356 ]\n",
      " [ 0.01919721  0.04363002 -0.0052356   0.06282723]]\n",
      "s: [0.26236184 0.26294357 0.2617801  0.52530541]\n"
     ]
    }
   ],
   "source": [
    "epsilon = 1e-8\n",
    "u0 = [10, -10]\n",
    "\n",
    "left_t = np.matmul(W_inv,A.T)\n",
    "mid_t = np.linalg.inv(np.matmul(A,left_t))\n",
    "right_t = np.matmul(A,W_inv)\n",
    "\n",
    "M = W_inv - np.matmul(np.matmul(left_t,mid_t),right_t)\n",
    "\n",
    "s = np.matmul(W_inv, ((np.matmul(np.matmul(A.T, mid_t) ,(np.matmul(right_t,C)+b) )) - C))\n",
    "print(\"M:\",M)\n",
    "print(\"s:\",s)"
   ]
  },
  {
   "cell_type": "code",
   "execution_count": 218,
   "metadata": {},
   "outputs": [
    {
     "data": {
      "text/plain": [
       "(array([[ 0.74097331, -0.37676609, -0.46310832,  0.03767661],\n",
       "        [-0.37676609,  0.3610675 ,  0.23547881, -0.03610675],\n",
       "        [-0.46310832,  0.23547881,  0.4144427 , -0.02354788],\n",
       "        [ 0.03767661, -0.03610675, -0.02354788,  0.10361068]]),\n",
       " array([[ 0.72584824, -0.38083823, -0.48928633,  0.0184794 ],\n",
       "        [-0.38083823,  0.32150962,  0.26689242, -0.07973677],\n",
       "        [-0.48928633,  0.26689242,  0.33067307, -0.01831228],\n",
       "        [ 0.0184794 , -0.07973677, -0.01831228,  0.04078345]]),\n",
       " array([[ 0.01512507,  0.00407213,  0.02617801,  0.01919721],\n",
       "        [ 0.00407213,  0.03955788, -0.03141361,  0.04363002],\n",
       "        [ 0.02617801, -0.03141361,  0.08376963, -0.0052356 ],\n",
       "        [ 0.01919721,  0.04363002, -0.0052356 ,  0.06282723]]))"
      ]
     },
     "execution_count": 218,
     "metadata": {},
     "output_type": "execute_result"
    }
   ],
   "source": [
    "W_inv,np.matmul(np.matmul(left_t,mid_t),right_t),M"
   ]
  },
  {
   "cell_type": "code",
   "execution_count": 219,
   "metadata": {},
   "outputs": [
    {
     "name": "stdout",
     "output_type": "stream",
     "text": [
      "Gap less than tolerance:1e-08!\n",
      "No. of iterations:694\n",
      "u: [-21.5   0. ]\n",
      "x: [ 5.00000000e-01 -5.00000000e-01  1.50000000e+00 -1.36557432e-14]\n"
     ]
    }
   ],
   "source": [
    "ITERATION = 10000\n",
    "ME_T = np.matmul(M, E.T); EME_T = np.matmul(E,ME_T); \n",
    "n_EME_T = EME_T.shape[0]; I = np.identity(n_EME_T)\n",
    "Es = np.matmul(E,s)\n",
    "x = np.matmul(ME_T,u0) + s\n",
    "u_prev = u0; x_prev = len(x)*np.inf; \n",
    "\n",
    "for i in range(ITERATION):\n",
    "    x_out = np.matmul(ME_T,u_prev) + s\n",
    "    Ex = np.matmul(E,x_out)\n",
    "#     print(\"u:\",u_prev)\n",
    "#     print(\"x:\",x_out)\n",
    "#     print()\n",
    "#     u_cur = u_prev+(-np.matmul(EME_T,u_prev) + g_func((np.matmul((EME_T-I),u_prev)+Es),l,h) - Es)*(1/epsilon)\n",
    "    u_cur = (u_prev + (g_func(Ex-u_prev,l,h) - Ex))\n",
    "    if (all(abs(x_out-x_prev))<epsilon):\n",
    "        print(\"Gap less than tolerance:{}!\".format(epsilon))\n",
    "        print(\"No. of iterations:{}\".format(i+1))\n",
    "        print(\"u:\",u_prev)\n",
    "        print(\"x:\",x_out)\n",
    "        break\n",
    "    x_prev = x_out\n",
    "    u_prev = u_cur\n"
   ]
  },
  {
   "cell_type": "code",
   "execution_count": 220,
   "metadata": {},
   "outputs": [
    {
     "name": "stdout",
     "output_type": "stream",
     "text": [
      "u: [-21.5   0. ]\n",
      "x: [ 5.00000000e-01 -5.00000000e-01  1.50000000e+00 -1.36557432e-14]\n",
      "x1 0.5\n",
      "x2 -0.5\n",
      "x3 1.5\n",
      "x4 -2.27213e-12\n"
     ]
    }
   ],
   "source": [
    "print(\"u:\",u_prev)\n",
    "print(\"x:\",x_out)\n",
    "for v in m.getVars():\n",
    "    print('%s %g'%(v.varName, v.x ))"
   ]
  },
  {
   "cell_type": "code",
   "execution_count": 122,
   "metadata": {},
   "outputs": [],
   "source": [
    "def g_func(z, l, h):\n",
    "    g = []\n",
    "    for i in range(len(z)):\n",
    "        if ((l[i] == -np.inf) and (h[i]==np.inf)):\n",
    "            g.append(z[i])\n",
    "        elif (l[i] == -np.inf):\n",
    "            if (z[i]<= h[i]): g.append(z[i])\n",
    "            else: g.append(h[i])\n",
    "        elif (h[i]==np.inf):\n",
    "            if (z[i]>= l[i]): g.append(z[i])\n",
    "            else: g.append(l[i])\n",
    "        else:\n",
    "            if (z[i]< l[i]): g.append(l[i])\n",
    "            elif ((l[i]<=z[i])and(z[i]<=h[i])): g.append(z[i])\n",
    "            else: g.append(h[i])\n",
    "    return np.array(g)"
   ]
  },
  {
   "cell_type": "code",
   "execution_count": 123,
   "metadata": {},
   "outputs": [
    {
     "data": {
      "text/plain": [
       "array([-1., -2.])"
      ]
     },
     "execution_count": 123,
     "metadata": {},
     "output_type": "execute_result"
    }
   ],
   "source": []
  },
  {
   "cell_type": "code",
   "execution_count": 119,
   "metadata": {},
   "outputs": [
    {
     "data": {
      "text/plain": [
       "array([[1., 0.],\n",
       "       [0., 1.]])"
      ]
     },
     "execution_count": 119,
     "metadata": {},
     "output_type": "execute_result"
    }
   ],
   "source": [
    "np.identity()"
   ]
  },
  {
   "cell_type": "code",
   "execution_count": 174,
   "metadata": {},
   "outputs": [
    {
     "data": {
      "text/plain": [
       "array([-1., -2.])"
      ]
     },
     "execution_count": 174,
     "metadata": {},
     "output_type": "execute_result"
    }
   ],
   "source": [
    "g_func((np.matmul((EME_T-I),u_prev)+Es),l,h) "
   ]
  },
  {
   "cell_type": "code",
   "execution_count": 173,
   "metadata": {},
   "outputs": [
    {
     "data": {
      "text/plain": [
       "array([ 8842335.48562877, -3845182.44802318])"
      ]
     },
     "execution_count": 173,
     "metadata": {},
     "output_type": "execute_result"
    }
   ],
   "source": [
    "(np.matmul((EME_T-I),u_prev)+Es)"
   ]
  },
  {
   "cell_type": "code",
   "execution_count": 176,
   "metadata": {},
   "outputs": [
    {
     "data": {
      "text/plain": [
       "(array([5.81733566e-04, 1.04886562e+00]),\n",
       " array([-9999990.        ,  7628262.25130888]))"
      ]
     },
     "execution_count": 176,
     "metadata": {},
     "output_type": "execute_result"
    }
   ],
   "source": [
    "Es,u_prev"
   ]
  },
  {
   "cell_type": "code",
   "execution_count": 175,
   "metadata": {},
   "outputs": [
    {
     "data": {
      "text/plain": [
       "array([[ 0.04653869, -0.09075044],\n",
       "       [-0.09075044,  0.37696335]])"
      ]
     },
     "execution_count": 175,
     "metadata": {},
     "output_type": "execute_result"
    }
   ],
   "source": [
    "EME_T"
   ]
  },
  {
   "cell_type": "code",
   "execution_count": null,
   "metadata": {},
   "outputs": [],
   "source": []
  }
 ],
 "metadata": {
  "kernelspec": {
   "display_name": "Python 3",
   "language": "python",
   "name": "python3"
  },
  "language_info": {
   "codemirror_mode": {
    "name": "ipython",
    "version": 3
   },
   "file_extension": ".py",
   "mimetype": "text/x-python",
   "name": "python",
   "nbconvert_exporter": "python",
   "pygments_lexer": "ipython3",
   "version": "3.8.5"
  }
 },
 "nbformat": 4,
 "nbformat_minor": 4
}
